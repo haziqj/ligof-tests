{
 "cells": [
  {
   "cell_type": "markdown",
   "metadata": {},
   "source": [
    "# LIGOF code\n",
    "\n",
    "Haziq Jamil"
   ],
   "id": "a74c36ba-f23c-461a-8507-d8f3621fbff3"
  },
  {
   "cell_type": "code",
   "execution_count": null,
   "metadata": {},
   "outputs": [
    {
     "output_type": "stream",
     "name": "stderr",
     "text": [
      "── Attaching core tidyverse packages ──────────────────────── tidyverse 2.0.0 ──\n",
      "✔ dplyr     1.1.4     ✔ readr     2.1.5\n",
      "✔ forcats   1.0.0     ✔ stringr   1.5.1\n",
      "✔ ggplot2   3.5.2     ✔ tibble    3.3.0\n",
      "✔ lubridate 1.9.4     ✔ tidyr     1.3.1\n",
      "✔ purrr     1.0.4     \n",
      "── Conflicts ────────────────────────────────────────── tidyverse_conflicts() ──\n",
      "✖ dplyr::filter() masks stats::filter()\n",
      "✖ dplyr::lag()    masks stats::lag()\n",
      "ℹ Use the conflicted package (<http://conflicted.r-lib.org/>) to force all conflicts to become errors"
     ]
    },
    {
     "output_type": "stream",
     "name": "stderr",
     "text": [
      "This is lavaan 0.6-19\n",
      "lavaan is FREE software! Please report any bugs."
     ]
    }
   ],
   "source": [
    "#| message: false\n",
    "library(tidyverse)    "
   ],
   "id": "64b3071d-0552-422e-b390-e1fefee08689"
  },
  {
   "cell_type": "markdown",
   "metadata": {},
   "source": [
    "## Simulate data\n",
    "\n",
    "Data used for testing is a 1-factor model with 5 binary items."
   ],
   "id": "ece277f7-05d7-4e03-89eb-25bc62ecddc6"
  },
  {
   "cell_type": "code",
   "execution_count": null,
   "metadata": {},
   "outputs": [
    {
     "output_type": "stream",
     "name": "stdout",
     "text": [
      "Rows: 1,000\n",
      "Columns: 5\n",
      "$ y1 <ord> 1, 2, 2, 2, 2, 2, 2, 2, 2, 2, 2, 2, 2, 2, 2, 2, 2, 2, 2, 2, 2, 2, 2…\n",
      "$ y2 <ord> 2, 2, 2, 2, 2, 2, 2, 2, 1, 2, 2, 1, 2, 2, 2, 2, 1, 1, 2, 1, 2, 2, 2…\n",
      "$ y3 <ord> 2, 2, 1, 1, 2, 2, 2, 2, 2, 2, 2, 2, 2, 2, 1, 1, 2, 1, 2, 2, 1, 2, 2…\n",
      "$ y4 <ord> 2, 2, 1, 1, 1, 2, 2, 1, 1, 1, 2, 1, 2, 2, 1, 2, 2, 1, 2, 2, 2, 1, 2…\n",
      "$ y5 <ord> 1, 2, 2, 2, 2, 2, 1, 2, 2, 2, 2, 2, 2, 2, 1, 2, 2, 1, 2, 2, 1, 2, 2…"
     ]
    }
   ],
   "source": [
    "simulate_data <- function(n = 1000) {\n",
    "  popmod <- \"\n",
    "    f1 =~ 0.8*y1 + 0.7*y2 + 0.5*y3 + 0.4*y4 + 0.3*y5\n",
    "    f1 ~~ 1*f1\n",
    "  \n",
    "    y1| -1.43*t1\n",
    "    y2| -0.55*t2\n",
    "    y3| -0.13*t3\n",
    "    y4| -0.72*t4\n",
    "    y5| -1.13*t5\n",
    "  \" \n",
    "  \n",
    "  lavaan::simulateData(popmod, sample.nobs = n) |>\n",
    "    lapply(ordered) |>\n",
    "    as_tibble()\n",
    "}\n",
    "\n",
    "dat <- simulate_data(n = 1000)\n",
    "glimpse(dat)"
   ],
   "id": "73daeea3-6a6b-460f-892d-89877997ede3"
  },
  {
   "cell_type": "markdown",
   "metadata": {},
   "source": [
    "## Fit a model\n",
    "\n",
    "By default, the DWLS estimator is used (with mean and variance adjustment for standard errors)."
   ],
   "id": "42c35bf4-ea87-4f0f-b6e9-28c6975261f0"
  },
  {
   "cell_type": "code",
   "execution_count": null,
   "metadata": {},
   "outputs": [
    {
     "output_type": "stream",
     "name": "stdout",
     "text": [
      "lavaan 0.6-19 ended normally after 15 iterations\n",
      "\n",
      "  Estimator                                       DWLS\n",
      "  Optimization method                           NLMINB\n",
      "  Number of model parameters                        10\n",
      "\n",
      "  Number of observations                          1000\n",
      "\n",
      "Model Test User Model:\n",
      "                                              Standard      Scaled\n",
      "  Test Statistic                                 1.949       2.547\n",
      "  Degrees of freedom                                 5           5\n",
      "  P-value (Chi-square)                           0.856       0.769\n",
      "  Scaling correction factor                                  0.779\n",
      "  Shift parameter                                            0.046\n",
      "    simple second-order correction                                \n",
      "\n",
      "Parameter Estimates:\n",
      "\n",
      "  Parameterization                               Delta\n",
      "  Standard errors                           Robust.sem\n",
      "  Information                                 Expected\n",
      "  Information saturated (h1) model        Unstructured\n",
      "\n",
      "Latent Variables:\n",
      "                   Estimate  Std.Err  z-value  P(>|z|)\n",
      "  f1 =~                                               \n",
      "    y1                0.830    0.083   10.034    0.000\n",
      "    y2                0.688    0.064   10.744    0.000\n",
      "    y3                0.413    0.057    7.208    0.000\n",
      "    y4                0.333    0.061    5.447    0.000\n",
      "    y5                0.333    0.070    4.790    0.000\n",
      "\n",
      "Thresholds:\n",
      "                   Estimate  Std.Err  z-value  P(>|z|)\n",
      "    y1|t1            -1.426    0.058  -24.409    0.000\n",
      "    y2|t1            -0.598    0.042  -14.119    0.000\n",
      "    y3|t1            -0.154    0.040   -3.855    0.000\n",
      "    y4|t1            -0.650    0.043  -15.159    0.000\n",
      "    y5|t1            -1.063    0.049  -21.700    0.000\n",
      "\n",
      "Variances:\n",
      "                   Estimate  Std.Err  z-value  P(>|z|)\n",
      "   .y1                0.311                           \n",
      "   .y2                0.527                           \n",
      "   .y3                0.829                           \n",
      "   .y4                0.889                           \n",
      "   .y5                0.889                           \n",
      "    f1                1.000                           "
     ]
    }
   ],
   "source": [
    "fit <- cfa(\"f1 =~ y1 + y2 + y3 + y4 + y5\", dat, std.lv = TRUE)\n",
    "summary(fit)"
   ],
   "id": "00a21ed6-a2a5-4f0c-9eaa-add910039951"
  },
  {
   "cell_type": "markdown",
   "metadata": {},
   "source": [
    "## Extract proportions and fitted probabilities\n",
    "\n",
    "This function extracts the univariate and bivariate margins of the sample and fitted probabilities from a `lavaan` object."
   ],
   "id": "e6eb569d-0bfe-46f4-8d87-bde21ab6c29f"
  },
  {
   "cell_type": "code",
   "execution_count": null,
   "metadata": {},
   "outputs": [
    {
     "output_type": "stream",
     "name": "stdout",
     "text": [
      "function (.lavobject, wtd = TRUE) \n",
      "{\n",
      "    list2env(extract_lavaan_info(.lavobject), environment())\n",
      "    if (!isTRUE(wtd)) \n",
      "        wt <- 1\n",
      "    N <- sum(wt)\n",
      "    pdot1 <- pidot1 <- rep(NA, p)\n",
      "    for (i in seq_along(pidot1)) {\n",
      "        pdot1[i] <- sum(wt[dat[, i] == 2])/N\n",
      "        pidot1[i] <- pnorm(TH[i], mean = mu_ystar[i], sd = sqrt(Var_ystar[i, \n",
      "            i]), lower.tail = FALSE)\n",
      "    }\n",
      "    id <- combn(p, 2)\n",
      "    pdot2 <- pidot2 <- rep(NA, ncol(id))\n",
      "    for (k in seq_along(pidot2)) {\n",
      "        i <- id[1, k]\n",
      "        j <- id[2, k]\n",
      "        pdot2[k] <- sum(wt[dat[, i] == 2 & dat[, j] == 2])/N\n",
      "        pidot2[k] <- mnormt::sadmvn(lower = c(TH[i], TH[j]), \n",
      "            upper = c(Inf, Inf), mean = mu_ystar[c(i, j)], varcov = Var_ystar[c(i, \n",
      "                j), c(i, j)])\n",
      "    }\n",
      "    list(pdot1 = pdot1, pidot1 = pidot1, pdot2 = pdot2, pidot2 = pidot2)\n",
      "}\n",
      "<bytecode: 0x128cf9020>\n",
      "<environment: namespace:lavaan.bingof>"
     ]
    },
    {
     "output_type": "stream",
     "name": "stdout",
     "text": [
      "$pdot1\n",
      "[1] 0.923 0.725 0.561 0.742 0.856\n",
      "\n",
      "$pidot1\n",
      "[1] 0.923 0.725 0.561 0.742 0.856\n",
      "\n",
      "$pdot2\n",
      " [1] 0.703 0.538 0.701 0.798 0.444 0.563 0.640 0.430 0.497 0.645\n",
      "\n",
      "$pidot2\n",
      " [1] 0.7026938 0.5376652 0.6993516 0.8010992 0.4449536 0.5638761 0.6392395\n",
      " [8] 0.4339455 0.4926660 0.6436034"
     ]
    },
    {
     "output_type": "stream",
     "name": "stdout",
     "text": [
      " num [1:15] 0.00 0.00 1.11e-16 0.00 -1.11e-16 ..."
     ]
    }
   ],
   "source": [
    "lavaan.bingof::get_uni_bi_moments"
   ],
   "id": "ee2d1f53-be5e-4feb-aedf-a291bd1f3b3d"
  },
  {
   "cell_type": "markdown",
   "metadata": {},
   "source": [
    "## $\\boldsymbol\\Sigma_2$ matrix\n",
    "\n",
    "This is the estimate of the asymptotic covariance matrix of the sample univariate and bivariate moments. Most pertinent is the option `method = \"theoretical\"`, which actually calculates $$\n",
    "\\hat{\\boldsymbol\\Sigma}_2 \n",
    "= \\operatorname{Var}(\\mathbf y_2) \n",
    "= \\operatorname{E}(\\mathbf y_2\\mathbf y_2^\\top) - \\operatorname{E}(\\mathbf y_2)\\operatorname{E}(\\mathbf y_2)^\\top.\n",
    "$$ The expectation of the first part involves trivariate and tetravariate moments, calculated using standard normal integrals via `mnormt::sadmvn()`."
   ],
   "id": "09fc4cca-95d9-4f4c-87bd-d9aab7a5aa23"
  },
  {
   "cell_type": "code",
   "execution_count": null,
   "metadata": {},
   "outputs": [
    {
     "output_type": "stream",
     "name": "stdout",
     "text": [
      "function (.lavobject, method = c(\"theoretical\", \"weighted\", \"force_unweighted\", \n",
      "    \"strat\", \"strat2\", \"multinomial\")) \n",
      "{\n",
      "    list2env(extract_lavaan_info(.lavobject), environment())\n",
      "    list2env(get_uni_bi_moments(.lavobject), environment())\n",
      "    p2_hat <- c(pdot1, pdot2)\n",
      "    pi2_hat <- c(pidot1, pidot2)\n",
      "    method <- match.arg(method, c(\"theoretical\", \"weighted\", \n",
      "        \"force_unweighted\", \"strat\", \"strat2\", \"multinomial\"))\n",
      "    if (method == \"theoretical\") {\n",
      "        S <- p * (p + 1)/2\n",
      "        Eysq <- matrix(NA, S, S)\n",
      "        id <- c(1:p, asplit(combn(p, 2), 2))\n",
      "        idS <- gtools::combinations(S, 2, repeats = TRUE)\n",
      "        colnames(idS) <- c(\"i\", \"j\")\n",
      "        idy <- as_tibble(idS) %>% mutate(var1 = id[i], var2 = id[j], \n",
      "            y = mapply(c, var1, var2, SIMPLIFY = FALSE))\n",
      "        for (s in seq_len(nrow(idS))) {\n",
      "            i <- idy$i[s]\n",
      "            j <- idy$j[s]\n",
      "            yy <- unique(idy$y[[s]])\n",
      "            dimy <- length(yy)\n",
      "            Eysq[i, j] <- mnormt::sadmvn(lower = TH[yy], upper = rep(Inf, \n",
      "                dimy), mean = mu_ystar[yy], varcov = Var_ystar[yy, \n",
      "                yy])\n",
      "        }\n",
      "        Eysq[lower.tri(Eysq)] <- t(Eysq)[lower.tri(Eysq)]\n",
      "        res <- Eysq - tcrossprod(pi2_hat)\n",
      "    }\n",
      "    else if (method == \"multinomial\") {\n",
      "        res <- diag(pi2_hat) - tcrossprod(pi2_hat)\n",
      "    }\n",
      "    else {\n",
      "        dat <- dat %>% mutate(across(everything(), function(y) as.numeric(y) - \n",
      "            1))\n",
      "        idx <- combn(p, 2)\n",
      "        varnames <- colnames(dat)\n",
      "        for (k in seq_len(ncol(idx))) {\n",
      "            i <- idx[1, k]\n",
      "            j <- idx[2, k]\n",
      "            varname <- paste0(varnames[i], varnames[j])\n",
      "            yi <- dat[, i, drop = TRUE]\n",
      "            yj <- dat[, j, drop = TRUE]\n",
      "            yij <- (yi == 1) * (yj == 1)\n",
      "            dat[[varname]] <- yij\n",
      "        }\n",
      "        if (method == \"strat\") {\n",
      "            strat_wt <- unique(wt)\n",
      "            nstrat <- length(strat_wt)\n",
      "            Eysq_strat <- Esqy_strat <- list()\n",
      "            for (k in seq_along(strat_wt)) {\n",
      "                idxl <- wt == strat_wt[k]\n",
      "                dats <- dat[idxl, ]\n",
      "                wts <- wt[idxl]\n",
      "                Esqy_strat[[k]] <- (strat_wt[k]/sum(strat_wt)) * \n",
      "                  apply(dats, 2, mean)\n",
      "                Eysq_strat[[k]] <- (strat_wt[k]/sum(strat_wt)) * \n",
      "                  (cov.wt(dats, center = FALSE)$cov)\n",
      "            }\n",
      "            Eysq <- Reduce(\"+\", Eysq_strat)\n",
      "            Esqy <- tcrossprod(Reduce(\"+\", Esqy_strat))\n",
      "            res <- Eysq - Esqy\n",
      "        }\n",
      "        else if (method == \"strat2\") {\n",
      "            strat_wt <- unique(wt)\n",
      "            nstrat <- length(strat_wt)\n",
      "            res <- list()\n",
      "            for (k in seq_along(strat_wt)) {\n",
      "                idxl <- wt == strat_wt[k]\n",
      "                dats <- dat[idxl, ]\n",
      "                wts <- wt[idxl]\n",
      "                dats <- scale(dats, center = pi2_hat, scale = FALSE)\n",
      "                na <- length(wts)\n",
      "                res[[k]] <- cov.wt(dats, wt = wts/sum(wt))$cov/((na - \n",
      "                  1)) * na^2\n",
      "            }\n",
      "            res <- Reduce(\"+\", res) * nrow(dat)\n",
      "        }\n",
      "        else {\n",
      "            if (method == \"force_unweighted\") \n",
      "                wt[] <- 1\n",
      "            res <- cov.wt(dat, wt)$cov\n",
      "        }\n",
      "    }\n",
      "    res\n",
      "}\n",
      "<bytecode: 0x10ba3a0c8>\n",
      "<environment: namespace:lavaan.bingof>"
     ]
    },
    {
     "output_type": "stream",
     "name": "stdout",
     "text": [
      "15 x 15 Matrix of class \"dsyMatrix\"\n",
      "       [,1]  [,2]  [,3]  [,4]  [,5]  [,6]  [,7]  [,8]  [,9] [,10] [,11] [,12]\n",
      " [1,] 0.071 0.034 0.020 0.014 0.011 0.054 0.041 0.054 0.062 0.026 0.030 0.032\n",
      " [2,] 0.034 0.199 0.038 0.026 0.019 0.193 0.047 0.043 0.042 0.122 0.155 0.176\n",
      " [3,] 0.020 0.038 0.246 0.018 0.012 0.043 0.236 0.028 0.026 0.195 0.039 0.040\n",
      " [4,] 0.014 0.026 0.018 0.191 0.008 0.029 0.021 0.180 0.018 0.025 0.145 0.027\n",
      " [5,] 0.011 0.019 0.012 0.008 0.123 0.021 0.015 0.014 0.115 0.017 0.018 0.092\n",
      " [6,] 0.054 0.193 0.043 0.029 0.021 0.209 0.059 0.059 0.059 0.124 0.154 0.173\n",
      " [7,] 0.041 0.047 0.236 0.021 0.015 0.059 0.249 0.044 0.045 0.198 0.047 0.048\n",
      " [8,] 0.054 0.043 0.028 0.180 0.014 0.059 0.044 0.210 0.052 0.039 0.156 0.044\n",
      " [9,] 0.062 0.042 0.026 0.018 0.115 0.059 0.045 0.052 0.159 0.036 0.039 0.110\n",
      "[10,] 0.026 0.122 0.195 0.025 0.017 0.124 0.198 0.039 0.036 0.247 0.104 0.114\n",
      "[11,] 0.030 0.155 0.039 0.145 0.018 0.154 0.047 0.156 0.039 0.104 0.246 0.140\n",
      "[12,] 0.032 0.176 0.040 0.027 0.092 0.173 0.048 0.044 0.110 0.114 0.140 0.231\n",
      "[13,] 0.020 0.040 0.191 0.112 0.013 0.045 0.187 0.117 0.027 0.162 0.110 0.042\n",
      "[14,] 0.021 0.041 0.216 0.019 0.071 0.046 0.211 0.030 0.081 0.179 0.042 0.083\n",
      "[15,] 0.019 0.034 0.024 0.166 0.093 0.038 0.028 0.163 0.097 0.033 0.138 0.090\n",
      "      [,13] [,14] [,15]\n",
      " [1,] 0.020 0.021 0.019\n",
      " [2,] 0.040 0.041 0.034\n",
      " [3,] 0.191 0.216 0.024\n",
      " [4,] 0.112 0.019 0.166\n",
      " [5,] 0.013 0.071 0.093\n",
      " [6,] 0.045 0.046 0.038\n",
      " [7,] 0.187 0.211 0.028\n",
      " [8,] 0.117 0.030 0.163\n",
      " [9,] 0.027 0.081 0.097\n",
      "[10,] 0.162 0.179 0.033\n",
      "[11,] 0.110 0.042 0.138\n",
      "[12,] 0.042 0.083 0.090\n",
      "[13,] 0.246 0.171 0.105\n",
      "[14,] 0.171 0.250 0.068\n",
      "[15,] 0.105 0.068 0.229"
     ]
    }
   ],
   "source": [
    "lavaan.bingof:::create_Sigma2_matrix"
   ],
   "id": "dcafd6f8-6538-4e98-a43c-d7c3cdd17dd7"
  },
  {
   "cell_type": "markdown",
   "metadata": {},
   "source": [
    "## Jacobian matrix\n",
    "\n",
    "This is the $\\boldsymbol\\Delta_{2,\\pi} \\in \\mathbb R^{S \\times T}$ matrix, which is the Jacobian of the probability density function of the multivariate normal distribution with respect to the parameters of the model. Its $(s, t)$-th entry is $\\partial \\boldsymbol[\\pi_2(\\theta)]_s / \\partial\\theta_t$ evaluated at the parameter estimates $\\hat\\theta$ of the model."
   ],
   "id": "06483d00-ad50-4153-a4e9-dfa67298141e"
  },
  {
   "cell_type": "code",
   "execution_count": null,
   "metadata": {},
   "outputs": [],
   "source": [
    "create_Delta2_matrix <- function(lavobject) {\n",
    "  p <- lavobject@Model@nvar\n",
    "  all_thresh <- inspect(lavobject, \"est\")$tau\n",
    "\n",
    "  if(ncol(all_thresh) != 1L) {\n",
    "    stop(\"This simplified function only handles purely binary indicators (1 threshold per variable).\")\n",
    "  }\n",
    "  tau <- as.numeric(all_thresh)\n",
    "  Sigma_hat <- inspect(lavobject, \"implied\")$cov\n",
    "  rho_ij <- Sigma_hat[lower.tri(Sigma_hat)]\n",
    "\n",
    "  Delta_full <- lavaan:::computeDelta(lavobject@Model)[[1]]\n",
    "  derTauToTheta <- Delta_full[1:p, , drop = FALSE]\n",
    "  derRhoToTheta <- Delta_full[-(1:p), , drop = FALSE]\n",
    "\n",
    "  pair_idx <- which(lower.tri(Sigma_hat), arr.ind = TRUE)\n",
    "  npairs <- nrow(pair_idx)\n",
    "\n",
    "  # Precompute all necessary values\n",
    "  dnorm_tau <- dnorm(tau)\n",
    "  tau_i <- tau[pair_idx[, 2]]\n",
    "  tau_j <- tau[pair_idx[, 1]]\n",
    "  dnorm_tau_i <- dnorm_tau[pair_idx[, 2]]\n",
    "  dnorm_tau_j <- dnorm_tau[pair_idx[, 1]]\n",
    "  rho_values <- rho_ij\n",
    "\n",
    "  # Common terms for vectorized calculations\n",
    "  denominator_sq <- 1 - rho_values^2\n",
    "  sqrt_denominator_sq <- sqrt(denominator_sq)\n",
    "  z1 <- (rho_values * tau_i - tau_j) / sqrt_denominator_sq\n",
    "  z2 <- (rho_values * tau_j - tau_i) / sqrt_denominator_sq\n",
    "\n",
    "  # Vectorized derivatives calculations\n",
    "  dP.dTaui <- -dnorm_tau_i * pnorm(z1)\n",
    "  dP.dTauj <- -dnorm_tau_j * pnorm(z2)\n",
    "  exponent <- -0.5 * (tau_i^2 - 2 * rho_values * tau_i * tau_j + tau_j^2) / denominator_sq\n",
    "  dP.dRho <- exp(exponent) / (2 * pi * sqrt_denominator_sq)\n",
    "\n",
    "  # Vectorized matrix operations\n",
    "  i_indices <- pair_idx[, 2]\n",
    "  j_indices <- pair_idx[, 1]\n",
    "\n",
    "  dP_taui_theta <- dP.dTaui * derTauToTheta[i_indices, , drop = FALSE]\n",
    "  dP_tauj_theta <- dP.dTauj * derTauToTheta[j_indices, , drop = FALSE]\n",
    "  dP_rho_theta <- dP.dRho * derRhoToTheta\n",
    "\n",
    "  derBiv_11_wrtTheta <- dP_taui_theta + dP_tauj_theta + dP_rho_theta\n",
    "\n",
    "  # Combine results\n",
    "  rbind(\n",
    "    -dnorm_tau * derTauToTheta,\n",
    "    derBiv_11_wrtTheta\n",
    "  )\n",
    "}"
   ],
   "id": "fc25d65b-5c4b-4914-81f6-f4a0ed9aab36"
  },
  {
   "cell_type": "markdown",
   "metadata": {},
   "source": [
    "The arrangement for `{lavaan}` parameters are in this order: loadings, thresholds, and then factor correlations. As we can see below in the first row, the first 5 entries are zero since the derivative of the univariate probabilities with respect to the loadings is zero (it only depends on thresholds)."
   ],
   "id": "af24d458-f43a-410e-92c0-a1cd1b5abe4d"
  },
  {
   "cell_type": "code",
   "execution_count": null,
   "metadata": {},
   "outputs": [
    {
     "output_type": "stream",
     "name": "stdout",
     "text": [
      "15 x 10 sparse Matrix of class \"dgCMatrix\"\n",
      "                                                                      \n",
      " [1,] .     .     .     .     .     -0.144  .      .      .      .    \n",
      " [2,] .     .     .     .     .      .     -0.334  .      .      .    \n",
      " [3,] .     .     .     .     .      .      .     -0.394  .      .    \n",
      " [4,] .     .     .     .     .      .      .      .     -0.323  .    \n",
      " [5,] .     .     .     .     .      .      .      .      .     -0.227\n",
      " [6,] 0.047 0.056 .     .     .     -0.057 -0.303  .      .      .    \n",
      " [7,] 0.024 .     0.048 .     .     -0.052  .     -0.366  .      .    \n",
      " [8,] 0.019 .     .     0.048 .     -0.087  .      .     -0.292  .    \n",
      " [9,] 0.016 .     .     .     0.039 -0.109  .      .      .     -0.200\n",
      "[10,] .     0.057 0.096 .     .      .     -0.165 -0.283  .      .    \n",
      "[11,] .     0.040 .     0.082 .      .     -0.234  .     -0.219  .    \n",
      "[12,] .     0.029 .     .     0.060  .     -0.277  .      .     -0.146\n",
      "[13,] .     .     0.043 0.054 .      .      .     -0.291 -0.170  .    \n",
      "[14,] .     .     0.030 .     0.038  .      .     -0.336  .     -0.114\n",
      "[15,] .     .     .     0.026 0.026  .      .      .     -0.272 -0.160"
     ]
    }
   ],
   "source": [
    "create_Delta2_matrix(fit) |> \n",
    "  Matrix::Matrix(sparse = TRUE) |>\n",
    "  round(3)"
   ],
   "id": "cfd18584-b7e7-46ae-a4df-e31a8bb4b535"
  },
  {
   "cell_type": "markdown",
   "metadata": {},
   "source": [
    "## Extract code\n",
    "\n",
    "For use in other `.qmd` documents."
   ],
   "id": "f4fea23c-aa58-4546-9c67-71f6ea2287f9"
  },
  {
   "cell_type": "code",
   "execution_count": null,
   "metadata": {},
   "outputs": [],
   "source": [
    "# knitr::purl(\"ligof.qmd\", output = \"ligof.R\", quiet = TRUE)"
   ],
   "id": "9c9349cd-e93e-4e6c-9e34-dae879a6ee55"
  }
 ],
 "nbformat": 4,
 "nbformat_minor": 5,
 "metadata": {}
}
