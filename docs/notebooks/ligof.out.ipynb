{
 "cells": [
  {
   "cell_type": "markdown",
   "metadata": {},
   "source": [
    "# LIGOF code\n",
    "\n",
    "Haziq Jamil"
   ],
   "id": "4779adf5-3166-43bc-9ce9-8e3fd6c06edd"
  },
  {
   "cell_type": "code",
   "execution_count": null,
   "metadata": {},
   "outputs": [
    {
     "output_type": "stream",
     "name": "stderr",
     "text": [
      "── Attaching core tidyverse packages ──────────────────────── tidyverse 2.0.0 ──\n",
      "✔ dplyr     1.1.4     ✔ readr     2.1.5\n",
      "✔ forcats   1.0.0     ✔ stringr   1.5.1\n",
      "✔ ggplot2   3.5.2     ✔ tibble    3.3.0\n",
      "✔ lubridate 1.9.4     ✔ tidyr     1.3.1\n",
      "✔ purrr     1.0.4     \n",
      "── Conflicts ────────────────────────────────────────── tidyverse_conflicts() ──\n",
      "✖ dplyr::filter() masks stats::filter()\n",
      "✖ dplyr::lag()    masks stats::lag()\n",
      "ℹ Use the conflicted package (<http://conflicted.r-lib.org/>) to force all conflicts to become errors"
     ]
    },
    {
     "output_type": "stream",
     "name": "stderr",
     "text": [
      "This is lavaan 0.6-19\n",
      "lavaan is FREE software! Please report any bugs."
     ]
    }
   ],
   "source": [
    "library(tidyverse)    \n"
   ],
   "id": "e4dfef90-7ffb-4019-9e0f-1cb567806753"
  },
  {
   "cell_type": "markdown",
   "metadata": {},
   "source": [
    "## Simulate data\n",
    "\n",
    "Data used for testing is a 1-factor model with 5 binary items."
   ],
   "id": "65d5844c-7c5d-467f-b182-801643b09076"
  },
  {
   "cell_type": "code",
   "execution_count": null,
   "metadata": {},
   "outputs": [
    {
     "output_type": "stream",
     "name": "stdout",
     "text": [
      "Rows: 1,000\n",
      "Columns: 5\n",
      "$ y1 <ord> 2, 2, 2, 2, 2, 2, 2, 2, 2, 2, 2, 2, 2, 2, 2, 2, 2, 2, 2, 2, 2, 1, 2…\n",
      "$ y2 <ord> 2, 1, 2, 1, 1, 2, 2, 2, 1, 2, 1, 2, 2, 1, 2, 2, 2, 2, 1, 2, 2, 1, 2…\n",
      "$ y3 <ord> 1, 2, 2, 2, 1, 1, 2, 2, 1, 1, 2, 1, 2, 1, 2, 2, 1, 2, 1, 2, 1, 1, 2…\n",
      "$ y4 <ord> 2, 1, 2, 2, 2, 2, 2, 2, 2, 2, 2, 2, 2, 2, 2, 2, 2, 2, 2, 2, 2, 2, 2…\n",
      "$ y5 <ord> 2, 2, 2, 2, 2, 1, 2, 2, 2, 2, 2, 2, 2, 2, 2, 2, 2, 2, 1, 2, 1, 2, 2…"
     ]
    }
   ],
   "source": [
    "simulate_data <- function(n = 1000) {\n",
    "  popmod <- \"\n",
    "    f1 =~ 0.8*y1 + 0.7*y2 + 0.5*y3 + 0.4*y4 + 0.3*y5\n",
    "    f1 ~~ 1*f1\n",
    "  \n",
    "    y1| -1.43*t1\n",
    "    y2| -0.55*t2\n",
    "    y3| -0.13*t3\n",
    "    y4| -0.72*t4\n",
    "    y5| -1.13*t5\n",
    "  \" \n",
    "  \n",
    "  lavaan::simulateData(popmod, sample.nobs = n) |>\n",
    "    lapply(ordered) |>\n",
    "    as_tibble()\n",
    "}\n",
    "\n",
    "dat <- simulate_data(n = 1000)\n",
    "glimpse(dat)\n"
   ],
   "id": "c75c9428-4bde-45ea-996a-317464b0cfe6"
  },
  {
   "cell_type": "markdown",
   "metadata": {},
   "source": [
    "## Fit a model\n",
    "\n",
    "By default, the DWLS estimator is used (with mean and variance adjustment for standard errors)."
   ],
   "id": "80742e01-0b75-486c-af8c-a9e98d8e9f1b"
  },
  {
   "cell_type": "code",
   "execution_count": null,
   "metadata": {},
   "outputs": [
    {
     "output_type": "stream",
     "name": "stdout",
     "text": [
      "lavaan 0.6-19 ended normally after 15 iterations\n",
      "\n",
      "  Estimator                                       DWLS\n",
      "  Optimization method                           NLMINB\n",
      "  Number of model parameters                        10\n",
      "\n",
      "  Number of observations                          1000\n",
      "\n",
      "Model Test User Model:\n",
      "                                              Standard      Scaled\n",
      "  Test Statistic                                 3.661       4.936\n",
      "  Degrees of freedom                                 5           5\n",
      "  P-value (Chi-square)                           0.599       0.424\n",
      "  Scaling correction factor                                  0.749\n",
      "  Shift parameter                                            0.048\n",
      "    simple second-order correction                                \n",
      "\n",
      "Parameter Estimates:\n",
      "\n",
      "  Parameterization                               Delta\n",
      "  Standard errors                           Robust.sem\n",
      "  Information                                 Expected\n",
      "  Information saturated (h1) model        Unstructured\n",
      "\n",
      "Latent Variables:\n",
      "                   Estimate  Std.Err  z-value  P(>|z|)\n",
      "  f1 =~                                               \n",
      "    y1                0.819    0.071   11.456    0.000\n",
      "    y2                0.693    0.065   10.712    0.000\n",
      "    y3                0.544    0.059    9.280    0.000\n",
      "    y4                0.339    0.061    5.598    0.000\n",
      "    y5                0.250    0.070    3.566    0.000\n",
      "\n",
      "Thresholds:\n",
      "                   Estimate  Std.Err  z-value  P(>|z|)\n",
      "    y1|t1            -1.461    0.060  -24.512    0.000\n",
      "    y2|t1            -0.550    0.042  -13.133    0.000\n",
      "    y3|t1            -0.161    0.040   -4.044    0.000\n",
      "    y4|t1            -0.700    0.043  -16.129    0.000\n",
      "    y5|t1            -1.094    0.050  -22.053    0.000\n",
      "\n",
      "Variances:\n",
      "                   Estimate  Std.Err  z-value  P(>|z|)\n",
      "   .y1                0.330                           \n",
      "   .y2                0.519                           \n",
      "   .y3                0.704                           \n",
      "   .y4                0.885                           \n",
      "   .y5                0.938                           \n",
      "    f1                1.000                           "
     ]
    }
   ],
   "source": [
    "fit <- cfa(\"f1 =~ y1 + y2 + y3 + y4 + y5\", dat, std.lv = TRUE)\n",
    "summary(fit)\n"
   ],
   "id": "eb58b99d-0417-43b3-b0b7-72c6705346b1"
  },
  {
   "cell_type": "markdown",
   "metadata": {},
   "source": [
    "## Extract proportions and fitted probabilities\n",
    "\n",
    "This function extracts the univariate and bivariate margins of the sample and fitted probabilities from a `lavaan` object."
   ],
   "id": "b01d049d-ebe5-4db7-a6ce-3d299a6d99bd"
  },
  {
   "cell_type": "code",
   "execution_count": null,
   "metadata": {},
   "outputs": [
    {
     "output_type": "stream",
     "name": "stdout",
     "text": [
      "function (.lavobject, wtd = TRUE) \n",
      "{\n",
      "    list2env(extract_lavaan_info(.lavobject), environment())\n",
      "    if (!isTRUE(wtd)) \n",
      "        wt <- 1\n",
      "    N <- sum(wt)\n",
      "    pdot1 <- pidot1 <- rep(NA, p)\n",
      "    for (i in seq_along(pidot1)) {\n",
      "        pdot1[i] <- sum(wt[dat[, i] == 2])/N\n",
      "        pidot1[i] <- pnorm(TH[i], mean = mu_ystar[i], sd = sqrt(Var_ystar[i, \n",
      "            i]), lower.tail = FALSE)\n",
      "    }\n",
      "    id <- combn(p, 2)\n",
      "    pdot2 <- pidot2 <- rep(NA, ncol(id))\n",
      "    for (k in seq_along(pidot2)) {\n",
      "        i <- id[1, k]\n",
      "        j <- id[2, k]\n",
      "        pdot2[k] <- sum(wt[dat[, i] == 2 & dat[, j] == 2])/N\n",
      "        pidot2[k] <- mnormt::sadmvn(lower = c(TH[i], TH[j]), \n",
      "            upper = c(Inf, Inf), mean = mu_ystar[c(i, j)], varcov = Var_ystar[c(i, \n",
      "                j), c(i, j)])\n",
      "    }\n",
      "    list(pdot1 = pdot1, pidot1 = pidot1, pdot2 = pdot2, pidot2 = pidot2)\n",
      "}\n",
      "<bytecode: 0x13b0ac478>\n",
      "<environment: namespace:lavaan.bingof>"
     ]
    },
    {
     "output_type": "stream",
     "name": "stdout",
     "text": [
      "$pdot1\n",
      "[1] 0.928 0.709 0.564 0.758 0.863\n",
      "\n",
      "$pidot1\n",
      "[1] 0.928 0.709 0.564 0.758 0.863\n",
      "\n",
      "$pdot2\n",
      " [1] 0.688 0.548 0.718 0.812 0.456 0.565 0.625 0.447 0.492 0.660\n",
      "\n",
      "$pidot2\n",
      " [1] 0.6897615 0.5477655 0.7169267 0.8080344 0.4526292 0.5638332 0.6255615\n",
      " [8] 0.4504930 0.4986013 0.6601341"
     ]
    },
    {
     "output_type": "stream",
     "name": "stdout",
     "text": [
      " num [1:15] 0.00 0.00 -1.11e-16 0.00 -1.11e-16 ..."
     ]
    }
   ],
   "source": [
    "lavaan.bingof::get_uni_bi_moments\n"
   ],
   "id": "f8ce676f-2133-478f-b619-e229ecee332e"
  },
  {
   "cell_type": "markdown",
   "metadata": {},
   "source": [
    "## $\\boldsymbol\\Sigma_2$ matrix\n",
    "\n",
    "This is the estimate of the asymptotic covariance matrix of the sample univariate and bivariate moments. Most pertinent is the option `method = \"theoretical\"`, which actually calculates $$\n",
    "\\hat{\\boldsymbol\\Sigma}_2 \n",
    "= \\operatorname{Var}(\\mathbf y_2) \n",
    "= \\operatorname{E}(\\mathbf y_2\\mathbf y_2^\\top) - \\operatorname{E}(\\mathbf y_2)\\operatorname{E}(\\mathbf y_2)^\\top.\n",
    "$$ The expectation of the first part involves trivariate and tetravariate moments, calculated using standard normal integrals via `mnormt::sadmvn()`."
   ],
   "id": "990e6b92-8c40-4f7e-9ced-ad4025f0b79c"
  },
  {
   "cell_type": "code",
   "execution_count": null,
   "metadata": {},
   "outputs": [
    {
     "output_type": "stream",
     "name": "stdout",
     "text": [
      "function (.lavobject, method = c(\"theoretical\", \"weighted\", \"force_unweighted\", \n",
      "    \"strat\", \"strat2\", \"multinomial\")) \n",
      "{\n",
      "    list2env(extract_lavaan_info(.lavobject), environment())\n",
      "    list2env(get_uni_bi_moments(.lavobject), environment())\n",
      "    p2_hat <- c(pdot1, pdot2)\n",
      "    pi2_hat <- c(pidot1, pidot2)\n",
      "    method <- match.arg(method, c(\"theoretical\", \"weighted\", \n",
      "        \"force_unweighted\", \"strat\", \"strat2\", \"multinomial\"))\n",
      "    if (method == \"theoretical\") {\n",
      "        S <- p * (p + 1)/2\n",
      "        Eysq <- matrix(NA, S, S)\n",
      "        id <- c(1:p, asplit(combn(p, 2), 2))\n",
      "        idS <- gtools::combinations(S, 2, repeats = TRUE)\n",
      "        colnames(idS) <- c(\"i\", \"j\")\n",
      "        idy <- as_tibble(idS) %>% mutate(var1 = id[i], var2 = id[j], \n",
      "            y = mapply(c, var1, var2, SIMPLIFY = FALSE))\n",
      "        for (s in seq_len(nrow(idS))) {\n",
      "            i <- idy$i[s]\n",
      "            j <- idy$j[s]\n",
      "            yy <- unique(idy$y[[s]])\n",
      "            dimy <- length(yy)\n",
      "            Eysq[i, j] <- mnormt::sadmvn(lower = TH[yy], upper = rep(Inf, \n",
      "                dimy), mean = mu_ystar[yy], varcov = Var_ystar[yy, \n",
      "                yy])\n",
      "        }\n",
      "        Eysq[lower.tri(Eysq)] <- t(Eysq)[lower.tri(Eysq)]\n",
      "        res <- Eysq - tcrossprod(pi2_hat)\n",
      "    }\n",
      "    else if (method == \"multinomial\") {\n",
      "        res <- diag(pi2_hat) - tcrossprod(pi2_hat)\n",
      "    }\n",
      "    else {\n",
      "        dat <- dat %>% mutate(across(everything(), function(y) as.numeric(y) - \n",
      "            1))\n",
      "        idx <- combn(p, 2)\n",
      "        varnames <- colnames(dat)\n",
      "        for (k in seq_len(ncol(idx))) {\n",
      "            i <- idx[1, k]\n",
      "            j <- idx[2, k]\n",
      "            varname <- paste0(varnames[i], varnames[j])\n",
      "            yi <- dat[, i, drop = TRUE]\n",
      "            yj <- dat[, j, drop = TRUE]\n",
      "            yij <- (yi == 1) * (yj == 1)\n",
      "            dat[[varname]] <- yij\n",
      "        }\n",
      "        if (method == \"strat\") {\n",
      "            strat_wt <- unique(wt)\n",
      "            nstrat <- length(strat_wt)\n",
      "            Eysq_strat <- Esqy_strat <- list()\n",
      "            for (k in seq_along(strat_wt)) {\n",
      "                idxl <- wt == strat_wt[k]\n",
      "                dats <- dat[idxl, ]\n",
      "                wts <- wt[idxl]\n",
      "                Esqy_strat[[k]] <- (strat_wt[k]/sum(strat_wt)) * \n",
      "                  apply(dats, 2, mean)\n",
      "                Eysq_strat[[k]] <- (strat_wt[k]/sum(strat_wt)) * \n",
      "                  (cov.wt(dats, center = FALSE)$cov)\n",
      "            }\n",
      "            Eysq <- Reduce(\"+\", Eysq_strat)\n",
      "            Esqy <- tcrossprod(Reduce(\"+\", Esqy_strat))\n",
      "            res <- Eysq - Esqy\n",
      "        }\n",
      "        else if (method == \"strat2\") {\n",
      "            strat_wt <- unique(wt)\n",
      "            nstrat <- length(strat_wt)\n",
      "            res <- list()\n",
      "            for (k in seq_along(strat_wt)) {\n",
      "                idxl <- wt == strat_wt[k]\n",
      "                dats <- dat[idxl, ]\n",
      "                wts <- wt[idxl]\n",
      "                dats <- scale(dats, center = pi2_hat, scale = FALSE)\n",
      "                na <- length(wts)\n",
      "                res[[k]] <- cov.wt(dats, wt = wts/sum(wt))$cov/((na - \n",
      "                  1)) * na^2\n",
      "            }\n",
      "            res <- Reduce(\"+\", res) * nrow(dat)\n",
      "        }\n",
      "        else {\n",
      "            if (method == \"force_unweighted\") \n",
      "                wt[] <- 1\n",
      "            res <- cov.wt(dat, wt)$cov\n",
      "        }\n",
      "    }\n",
      "    res\n",
      "}\n",
      "<bytecode: 0x115dc4cf8>\n",
      "<environment: namespace:lavaan.bingof>"
     ]
    },
    {
     "output_type": "stream",
     "name": "stdout",
     "text": [
      "15 x 15 Matrix of class \"dsyMatrix\"\n",
      "       [,1]  [,2]  [,3]  [,4]  [,5]  [,6]  [,7]  [,8]  [,9] [,10] [,11] [,12]\n",
      " [1,] 0.067 0.032 0.024 0.014 0.007 0.050 0.039 0.052 0.058 0.027 0.029 0.030\n",
      " [2,] 0.032 0.206 0.053 0.026 0.014 0.201 0.058 0.043 0.037 0.132 0.164 0.182\n",
      " [3,] 0.024 0.053 0.246 0.023 0.012 0.058 0.239 0.036 0.030 0.197 0.053 0.052\n",
      " [4,] 0.014 0.026 0.023 0.183 0.006 0.029 0.025 0.173 0.016 0.028 0.136 0.026\n",
      " [5,] 0.007 0.014 0.012 0.006 0.118 0.015 0.013 0.010 0.111 0.014 0.013 0.086\n",
      " [6,] 0.050 0.201 0.058 0.029 0.015 0.214 0.069 0.057 0.053 0.135 0.163 0.179\n",
      " [7,] 0.039 0.058 0.239 0.025 0.013 0.069 0.248 0.048 0.043 0.199 0.058 0.058\n",
      " [8,] 0.052 0.043 0.036 0.173 0.010 0.057 0.048 0.203 0.049 0.043 0.148 0.042\n",
      " [9,] 0.058 0.037 0.030 0.016 0.111 0.053 0.043 0.049 0.155 0.035 0.035 0.105\n",
      "[10,] 0.027 0.132 0.197 0.028 0.014 0.135 0.199 0.043 0.035 0.248 0.116 0.122\n",
      "[11,] 0.029 0.164 0.053 0.136 0.013 0.163 0.058 0.148 0.035 0.116 0.246 0.147\n",
      "[12,] 0.030 0.182 0.052 0.026 0.086 0.179 0.058 0.042 0.105 0.122 0.147 0.234\n",
      "[13,] 0.022 0.052 0.196 0.109 0.012 0.056 0.194 0.118 0.029 0.167 0.117 0.051\n",
      "[14,] 0.023 0.051 0.217 0.023 0.068 0.056 0.213 0.035 0.083 0.179 0.052 0.093\n",
      "[15,] 0.016 0.032 0.028 0.160 0.090 0.035 0.031 0.155 0.095 0.034 0.128 0.087\n",
      "      [,13] [,14] [,15]\n",
      " [1,] 0.022 0.023 0.016\n",
      " [2,] 0.052 0.051 0.032\n",
      " [3,] 0.196 0.217 0.028\n",
      " [4,] 0.109 0.023 0.160\n",
      " [5,] 0.012 0.068 0.090\n",
      " [6,] 0.056 0.056 0.035\n",
      " [7,] 0.194 0.213 0.031\n",
      " [8,] 0.118 0.035 0.155\n",
      " [9,] 0.029 0.083 0.095\n",
      "[10,] 0.167 0.179 0.034\n",
      "[11,] 0.117 0.052 0.128\n",
      "[12,] 0.051 0.093 0.087\n",
      "[13,] 0.248 0.176 0.103\n",
      "[14,] 0.176 0.250 0.071\n",
      "[15,] 0.103 0.071 0.224"
     ]
    }
   ],
   "source": [
    "lavaan.bingof:::create_Sigma2_matrix\n"
   ],
   "id": "969f15bb-d5af-4798-a8d4-d36c556a459d"
  },
  {
   "cell_type": "markdown",
   "metadata": {},
   "source": [
    "## Jacobian matrix\n",
    "\n",
    "This is the $\\boldsymbol\\Delta_{2,\\pi} \\in \\mathbb R^{S \\times T}$ matrix, which is the Jacobian of the probability density function of the multivariate normal distribution with respect to the parameters of the model. Its $(s, t)$-th entry is $\\partial \\boldsymbol[\\pi_2(\\theta)]_s / \\partial\\theta_t$ evaluated at the parameter estimates $\\hat\\theta$ of the model."
   ],
   "id": "35ba26ec-2d6c-45d8-8064-0703394fe990"
  },
  {
   "cell_type": "code",
   "execution_count": null,
   "metadata": {},
   "outputs": [],
   "source": [
    "create_Delta2_matrix <- function(lavobject) {\n",
    "  p <- lavobject@Model@nvar\n",
    "  all_thresh <- inspect(lavobject, \"est\")$tau\n",
    "\n",
    "  if(ncol(all_thresh) != 1L) {\n",
    "    stop(\"This simplified function only handles purely binary indicators (1 threshold per variable).\")\n",
    "  }\n",
    "  tau <- as.numeric(all_thresh)\n",
    "  Sigma_hat <- inspect(lavobject, \"implied\")$cov\n",
    "  rho_ij <- Sigma_hat[lower.tri(Sigma_hat)]\n",
    "\n",
    "  Delta_full <- lavaan:::computeDelta(lavobject@Model)[[1]]\n",
    "  derTauToTheta <- Delta_full[1:p, , drop = FALSE]\n",
    "  derRhoToTheta <- Delta_full[-(1:p), , drop = FALSE]\n",
    "\n",
    "  pair_idx <- which(lower.tri(Sigma_hat), arr.ind = TRUE)\n",
    "  npairs <- nrow(pair_idx)\n",
    "\n",
    "  # Precompute all necessary values\n",
    "  dnorm_tau <- dnorm(tau)\n",
    "  tau_i <- tau[pair_idx[, 2]]\n",
    "  tau_j <- tau[pair_idx[, 1]]\n",
    "  dnorm_tau_i <- dnorm_tau[pair_idx[, 2]]\n",
    "  dnorm_tau_j <- dnorm_tau[pair_idx[, 1]]\n",
    "  rho_values <- rho_ij\n",
    "\n",
    "  # Common terms for vectorized calculations\n",
    "  denominator_sq <- 1 - rho_values^2\n",
    "  sqrt_denominator_sq <- sqrt(denominator_sq)\n",
    "  z1 <- (rho_values * tau_i - tau_j) / sqrt_denominator_sq\n",
    "  z2 <- (rho_values * tau_j - tau_i) / sqrt_denominator_sq\n",
    "\n",
    "  # Vectorized derivatives calculations\n",
    "  dP.dTaui <- -dnorm_tau_i * pnorm(z1)\n",
    "  dP.dTauj <- -dnorm_tau_j * pnorm(z2)\n",
    "  exponent <- -0.5 * (tau_i^2 - 2 * rho_values * tau_i * tau_j + tau_j^2) / denominator_sq\n",
    "  dP.dRho <- exp(exponent) / (2 * pi * sqrt_denominator_sq)\n",
    "\n",
    "  # Vectorized matrix operations\n",
    "  i_indices <- pair_idx[, 2]\n",
    "  j_indices <- pair_idx[, 1]\n",
    "\n",
    "  dP_taui_theta <- dP.dTaui * derTauToTheta[i_indices, , drop = FALSE]\n",
    "  dP_tauj_theta <- dP.dTauj * derTauToTheta[j_indices, , drop = FALSE]\n",
    "  dP_rho_theta <- dP.dRho * derRhoToTheta\n",
    "\n",
    "  derBiv_11_wrtTheta <- dP_taui_theta + dP_tauj_theta + dP_rho_theta\n",
    "\n",
    "  # Combine results\n",
    "  rbind(\n",
    "    -dnorm_tau * derTauToTheta,\n",
    "    derBiv_11_wrtTheta\n",
    "  )\n",
    "}\n"
   ],
   "id": "42376c16-a81b-4daa-b7b6-e597f617994d"
  },
  {
   "cell_type": "markdown",
   "metadata": {},
   "source": [
    "The arrangement for `{lavaan}` parameters are in this order: loadings, thresholds, and then factor correlations. As we can see below in the first row, the first 5 entries are zero since the derivative of the univariate probabilities with respect to the loadings is zero (it only depends on thresholds)."
   ],
   "id": "de249fbe-acc9-4f9b-aea6-24e0c87301dc"
  },
  {
   "cell_type": "code",
   "execution_count": null,
   "metadata": {},
   "outputs": [
    {
     "output_type": "stream",
     "name": "stdout",
     "text": [
      "15 x 10 sparse Matrix of class \"dgCMatrix\"\n",
      "                                                                      \n",
      " [1,] .     .     .     .     .     -0.137  .      .      .      .    \n",
      " [2,] .     .     .     .     .      .     -0.343  .      .      .    \n",
      " [3,] .     .     .     .     .      .      .     -0.394  .      .    \n",
      " [4,] .     .     .     .     .      .      .      .     -0.312  .    \n",
      " [5,] .     .     .     .     .      .      .      .      .     -0.219\n",
      " [6,] 0.044 0.051 .     .     .     -0.050 -0.315  .      .      .    \n",
      " [7,] 0.029 .     0.043 .     .     -0.040  .     -0.370  .      .    \n",
      " [8,] 0.018 .     .     0.044 .     -0.085  .      .     -0.283  .    \n",
      " [9,] 0.010 .     .     .     0.033 -0.109  .      .      .     -0.197\n",
      "[10,] .     0.080 0.102 .     .      .     -0.165 -0.276  .      .    \n",
      "[11,] .     0.040 .     0.082 .      .     -0.247  .     -0.204  .    \n",
      "[12,] .     0.021 .     .     0.058  .     -0.290  .      .     -0.141\n",
      "[13,] .     .     0.043 0.069 .      .      .     -0.296 -0.160  .    \n",
      "[14,] .     .     0.022 .     0.048  .      .     -0.339  .     -0.111\n",
      "[15,] .     .     .     0.018 0.025  .      .      .     -0.266 -0.160"
     ]
    }
   ],
   "source": [
    "create_Delta2_matrix(fit) |> \n",
    "  Matrix::Matrix(sparse = TRUE) |>\n",
    "  round(3)\n"
   ],
   "id": "f1327089-f51a-4078-a2f5-cca4d3627fe3"
  },
  {
   "cell_type": "markdown",
   "metadata": {},
   "source": [
    "## Extract code\n",
    "\n",
    "For use in other `.qmd` documents."
   ],
   "id": "72b56430-2fbd-4eac-a47e-764e4d5033ec"
  },
  {
   "cell_type": "code",
   "execution_count": null,
   "metadata": {},
   "outputs": [],
   "source": [
    "# knitr::purl(\"ligof.qmd\", output = \"ligof.R\", quiet = TRUE)\n"
   ],
   "id": "466a7efa-ef9a-45da-9dc9-8bb992d2618f"
  }
 ],
 "nbformat": 4,
 "nbformat_minor": 5,
 "metadata": {}
}
